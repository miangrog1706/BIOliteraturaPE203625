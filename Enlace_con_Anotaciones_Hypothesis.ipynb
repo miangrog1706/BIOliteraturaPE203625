{
  "nbformat": 4,
  "nbformat_minor": 0,
  "metadata": {
    "colab": {
      "provenance": [],
      "authorship_tag": "ABX9TyPLv/RecQTKVMDQ051VgTdE",
      "include_colab_link": true
    },
    "kernelspec": {
      "name": "python3",
      "display_name": "Python 3"
    },
    "language_info": {
      "name": "python"
    }
  },
  "cells": [
    {
      "cell_type": "markdown",
      "metadata": {
        "id": "view-in-github",
        "colab_type": "text"
      },
      "source": [
        "<a href=\"https://colab.research.google.com/github/miangrog1706/BIOliteraturaPE203625/blob/main/Enlace_con_Anotaciones_Hypothesis.ipynb\" target=\"_parent\"><img src=\"https://colab.research.google.com/assets/colab-badge.svg\" alt=\"Open In Colab\"/></a>"
      ]
    },
    {
      "cell_type": "markdown",
      "source": [
        "# Análisis de las Anotaciones en Hypothesis.is\n",
        "\n",
        "Este cuaderno de Google Colab fue desarrollado por Miguel Angel Romero Gonzalez como parte del proyecto Living Reviews PAPIME2024.\n",
        "\n",
        "El propósito principal de este código es realizar un análisis detallado de las Anotaciones en Hypothesis.is correspondiente al Proyecto Living Reviews, con el fin de extraer información relevante, identificar patrones de uso, temáticas predominantes y apoyar la toma de decisiones en la gestión y mejora de los recursos bibliográficos disponibles.\n",
        "\n",
        "A lo largo del cuaderno se implementan herramientas de procesamiento de datos, visualización y análisis bibliométrico para obtener una visión integral del contenido y estructura de las Anotaciones en Hypothesis.is.\n",
        "\n",
        "## Conexión entre Hypothesis.is y Google Colab\n",
        "\n",
        "Para realizar el análisis de la Curacion en Hypothesis.is desde Google Colab, es necesario establecer una conexión entre ambas plataformas utilizando la Hypothesis API. Esta API permite acceder a colecciones, referencias, metadatos y otros recursos almacenados en una cuenta o grupo de Hypothesis.is, lo cual facilita el procesamiento automatizado de los datos.\n",
        "\n",
        "## Requisitos de configuración\n",
        "\n",
        "Antes de comenzar el análisis, es necesario contar con dos elementos clave:\n",
        "\n",
        "* Hypohesis API Key\n",
        "\n",
        "* Group ID (en caso de trabajar con una biblioteca de grupo)\n",
        "\n",
        "1. Hypothesis API Key\n",
        "\n",
        "La API Key es una clave personal que otorga permisos para acceder a la biblioteca de forma segura. Para obtenerla, sigue estos pasos:\n",
        "\n",
        "Accede a tu cuenta en Zotero.org.\n",
        "\n",
        "Ve a Settings > Feeds/API.\n",
        "\n",
        "En la sección de API Keys, haz clic en Create new private key.\n",
        "\n",
        "Define los permisos de acceso (por ejemplo, lectura) y copia la clave generada.\n",
        "\n",
        "Esta clave se utilizará en el código para autenticar las solicitudes a la API.\n",
        "\n",
        "2. Group ID\n",
        "\n",
        "Si estás trabajando con una biblioteca de grupo, también necesitas el identificador único del grupo. Para obtenerlo:\n",
        "\n",
        "Ingresa al sitio de Zotero y selecciona tu grupo.\n",
        "\n",
        "El Group ID. Por ejemplo, en:\n",
        "\n",
        "El número 1234567 es el Group ID que deberás usar\n"
      ],
      "metadata": {
        "id": "tMZCoMnHyBjy"
      }
    }
  ]
}